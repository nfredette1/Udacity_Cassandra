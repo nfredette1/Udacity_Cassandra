{
 "cells": [
  {
   "cell_type": "code",
   "execution_count": null,
   "id": "9ca544d5",
   "metadata": {},
   "outputs": [],
   "source": [
    "from IPython.core.display import HTML\n",
    "HTML(\"\"\"\n",
    "<style>\n",
    "\n",
    "div.text_cell_render h1, h2, h3, h4, h5 { \n",
    "font-family: 'Georgia';\n",
    "}\n",
    "\n",
    "\n",
    "div.text_cell_render { /* Customize text cells */\n",
    "font-family: 'Avenir';\n",
    "font-size:18px;\n",
    "line-height:21px;\n",
    "color: #292929;\n",
    "font-weight:400;\n",
    "}\n",
    "</style>\n",
    "\"\"\")"
   ]
  },
  {
   "cell_type": "code",
   "execution_count": null,
   "id": "4e9f414f",
   "metadata": {},
   "outputs": [],
   "source": [
    "### Run for formatting display width\n",
    "display(HTML(\"<style>.container { width:100% !important;}</style>\"))"
   ]
  },
  {
   "cell_type": "markdown",
   "id": "f6a2b533",
   "metadata": {},
   "source": [
    "# Table of Contents \n",
    "1. <a href=\"#what-nosql\">What are NoSQL Databases?</a>\n",
    "2. <a href=\"#why-nosql\">Why do we need NoSQL Databases?</a>\n",
    "3. <a href=\"#types-nosql\">[Optional] Types of NoSQL Databases</a>\n",
    "4. <a href=\"#dd\">Distributed Databases</a>\n",
    "5. <a href=\"#ec\">Eventual Consistency</a>\n",
    "6. <a href=\"#when-nosql\">When to use NoSQL Databases?</a>\n",
    "7. <a href=\"#what-ac\">What is Apache Cassandra?</a>\n",
    "8. <a href=\"#denorm-ac\">Denormalization in Apache Cassandra</a>\n",
    "9. <a href=\"#cql\">CQL</a>\n",
    "10. <a href=\"#demo\">Demo: Supermarket Sales</a>\n",
    "    - <a href=\"#step1\">Step 1: Import Python Packages and Supermarket Sales Data</a>\n",
    "    - <a href=\"#step2\">Step 2: Create Cluster, Session and Keyspace</a>\n",
    "    - <a href=\"#pk-pk-cc\">Primary Key, Partition Key and Clustering Columns</a>\n",
    "    - <a href=\"#query1\">Step 3: Query 1</a>\n",
    "    - <a href=\"#query2\">Step 3: Query 2</a>\n",
    "    - <a href=\"#query3\">Step 3: Query 3</a>\n",
    "    - <a href=\"#step4\">Step 4: Drop Tables and Close Connection</a>\n",
    "11. <a href=\"#reflection\">Reflection</a>"
   ]
  },
  {
   "cell_type": "markdown",
   "id": "93797217",
   "metadata": {},
   "source": [
    "### Pre-Requisites\n",
    "- [PostgreSQL](https://www.udacity.com/course/sql-for-data-analysis--ud198)\n",
    "- [Python](https://www.udacity.com/course/introduction-to-python--ud1110)"
   ]
  },
  {
   "cell_type": "markdown",
   "id": "eba932f4",
   "metadata": {},
   "source": [
    "## Session Structure\n",
    "\n",
    "- __[30 mins]__ Deep Dive into Theoretical Concepts \n",
    "    - Listen to the explanation. \n",
    "    - There are placeholders to add your notes in. \n",
    "    - Take notes only after listening/understanding rather than taking notes concurrently. This will increase recall.   \n",
    "    \n",
    "\n",
    "- __[60 mins]__ [Example Project] Supermarket Sales   \n",
    "    - Primary Key \n",
    "    - Partition Key \n",
    "    - Clustering Columns   \n",
    "    \n",
    "\n",
    "- __[30 mins]__ Q and A | Reflection"
   ]
  },
  {
   "cell_type": "markdown",
   "id": "54423d01",
   "metadata": {},
   "source": [
    "<a id=\"what-nosql\"></a>\n",
    "## What are NoSQL Databases? \n",
    "\n",
    "- Simpler Design \n",
    "- Simpler Horizontal Scaling \n",
    "- Finer Control on Availability  \n",
    "\n",
    "\n",
    "- NoSQL != Not SQL \n",
    "- NoSQL = Not ONLY SQL (where SQL refers to RDBMS)\n",
    "- NoSQL = Not Only RDBMS\n",
    "\n",
    "<img src=\"images/no-sql-db-types.png\">"
   ]
  },
  {
   "cell_type": "markdown",
   "id": "74bed311",
   "metadata": {},
   "source": [
    "### ✍️ Notes\n",
    "- \n",
    "- "
   ]
  },
  {
   "cell_type": "markdown",
   "id": "a9270383",
   "metadata": {},
   "source": [
    "<a id=\"why-nosql\"></a> \n",
    "## Why do we need NoSQL Databases?\n",
    "   \n",
    "\n",
    "> Database Management Systems provide __Efficient__,  __Reliable__, __Convenient__ and __Safe, Multi-User storage__ of and access to, __Massive amounts__ of __Persistent__ data.   \n",
    "\n",
    " \n",
    "- We don't need all those features!   \n",
    "\n",
    "\n",
    "\n",
    "- Convenience: \n",
    "    - What if our data model is not that relational? \n",
    "    - What if it does not fit into a neat package? \n",
    "    - Should we force it to fit? \n",
    "    - What if the query language is not needed? \n",
    "    - What if we don't want _transaction guarantees_? \n",
    "    - We're fine with _eventually_ having consistency?    \n",
    "    \n",
    "    \n",
    "    \n",
    "    \n",
    "- Multi-User: \n",
    "    - Transaction Guarantees - Not really needed?   \n",
    "    \n",
    "    \n",
    "    \n",
    "    \n",
    "- Safety | Persistence | Reliability \n",
    "    - We need safety, eitherway. \n",
    "    - NoSQL databases need to ensure the data outlives the programs. \n",
    "    - We want the NoSQL system up and running 99.999%!  \n",
    "    \n",
    "    \n",
    "- __Massive__ \n",
    "    - The data being stored is going up! \n",
    "    - Hardware cost going down. \n",
    "    - Facebook/Twitter store hundreds of data points on each user.   \n",
    "    \n",
    "    \n",
    "- __Efficiency__\n",
    "    - Facebook has billions of records and we expect a response time of under a second. \n",
    "    \n",
    "> ### We want much higher efficiency on very very massive datasets. \n",
    "    "
   ]
  },
  {
   "cell_type": "markdown",
   "id": "5e9f8093",
   "metadata": {},
   "source": [
    "### ✍️ Notes\n",
    "- \n",
    "- "
   ]
  },
  {
   "cell_type": "markdown",
   "id": "b623e442",
   "metadata": {},
   "source": [
    "<a id=\"types-nosql\"></a>\n",
    "## Types of Databases  \n",
    "\n",
    "- Apache Cassandra (Partition Row Store) \n",
    "    - A Row Store means that like relational databases, Cassandra organizes data by rows and columns. \n",
    "    - Each row has a required Primary Key \n",
    "    - Partitioning means that Cassandra can distribute the data across multiple machines. \n",
    "    - It will automatically re-partition as machines are added or removed from the cluster. \n",
    "    - Each row can have variable number of columns. \n",
    "    \n",
    "    \n",
    "- MongoDB (Document Store)\n",
    "    - It's designed to store and query data as JSON-like documents. \n",
    "    - Read more [here](https://aws.amazon.com/nosql/document/).  \n",
    "    \n",
    "Understanding the types of NoSQL databases is not required for the project. You can refer to these videos to learn about NoSQL Databases and their types. Notes on NoSQL database types will be uploaded soon. \n",
    "\n",
    "1. [NoSQL Motivation](https://lagunita.stanford.edu/courses/Engineering/db/2014_1/courseware/ch-nosql_systems/seq-vid-nosql_motivation/?child=last) covers the basics of NoSQL Databases. \n",
    "2. [NoSQL Overview](https://lagunita.stanford.edu/courses/Engineering/db/2014_1/courseware/ch-nosql_systems/seq-vid-nosql_overview/?child=first) covers the different types of NoSQL Databases. \n",
    "3. [An Overview of NoSQL Databases](https://www.xenonstack.com/blog/nosql-databases/) is another nice explanation. "
   ]
  },
  {
   "cell_type": "markdown",
   "id": "832afe98",
   "metadata": {},
   "source": [
    "### ✍️ Notes\n",
    "- \n",
    "- "
   ]
  },
  {
   "cell_type": "markdown",
   "id": "87be028d",
   "metadata": {},
   "source": [
    "<img src=\"images/nosql-mind-map.png\" width = \"1000px\" height=\"100px\">"
   ]
  },
  {
   "cell_type": "markdown",
   "id": "ea3baf42",
   "metadata": {},
   "source": [
    "<a id=\"dd\"><a/>"
   ]
  },
  {
   "attachments": {},
   "cell_type": "markdown",
   "id": "67631189",
   "metadata": {},
   "source": [
    "<a id=\"dd\"></a>\n",
    "## Distributed Databases  \n",
    " \n",
    "- Spread out over different locations\n",
    "- Accessed by various users globally \n",
    "- Distribution is oblivious to users \n",
    "    \n",
    "<img src=\"images/scaling_up_horizontal.png\">"
   ]
  },
  {
   "cell_type": "markdown",
   "id": "191348cc",
   "metadata": {},
   "source": [
    "- Copies of data for high availability, globally. "
   ]
  },
  {
   "cell_type": "markdown",
   "id": "0286c6e3",
   "metadata": {},
   "source": [
    "### ✍️ Notes\n",
    "- \n",
    "- "
   ]
  },
  {
   "cell_type": "markdown",
   "id": "477d4d31",
   "metadata": {},
   "source": [
    "<a id=\"ec\"></a>\n",
    "## Eventual Consistency \n",
    "- Make sure changes made are consistent across copies. \n",
    "- Some copies might take time to get updated. "
   ]
  },
  {
   "cell_type": "markdown",
   "id": "2ae09d3d",
   "metadata": {},
   "source": [
    "### ✍️ Notes\n",
    "- \n",
    "- "
   ]
  },
  {
   "cell_type": "markdown",
   "id": "1955c8c0",
   "metadata": {},
   "source": [
    "<a id=\"when-nosql\"></a> \n",
    "## When to use NoSQL Databases? \n",
    "- Different data type formats \n",
    "- Large amounts of data \n",
    "- Horizontal Scalability \n",
    "- High Throughput \n",
    "- Flexible Schema\n",
    "- High Availability - No Downtime \n",
    "- When users are distributed "
   ]
  },
  {
   "cell_type": "markdown",
   "id": "0b4dc10a",
   "metadata": {},
   "source": [
    "### ✍️ Notes\n",
    "- \n",
    "- "
   ]
  },
  {
   "cell_type": "markdown",
   "id": "1b34a2ef",
   "metadata": {},
   "source": [
    "<a id=\"what-ac\"></a> \n",
    "## What is Apache Cassandra? \n",
    "- __Scalability__ and __High Availability__ \n",
    "- Netlfix and Uber \n",
    "- One Table per Query \n",
    "- No Ad-Hoc Queries\n",
    "- Basic Architecture \n",
    "    - Keyspace \n",
    "    - Table \n",
    "    - Rows\n",
    "\n",
    "<img src=\"images/apache-cassandra-example.png\">\n"
   ]
  },
  {
   "cell_type": "markdown",
   "id": "31cc0324",
   "metadata": {},
   "source": [
    "### ✍️ Notes\n",
    "- \n",
    "- "
   ]
  },
  {
   "cell_type": "markdown",
   "id": "297ebc95",
   "metadata": {},
   "source": [
    "<a id=\"denorm-ac\"></a> \n",
    "## Denormalization in Apache Cassandra \n",
    "> Always think queries first!  \n",
    "- No `JOIN`s: Can only query one table at a time \n",
    "- Our Priority is Fast Reads. \n",
    "\n",
    "<img src=\"images/denorm-cassandra.png\">"
   ]
  },
  {
   "cell_type": "markdown",
   "id": "846c6526",
   "metadata": {},
   "source": [
    "### Two Queries , Two Tables  \n",
    "\n",
    "\n",
    "- All Albums in a Given Year   \n",
    "\n",
    "<img src=\"images/denorm-cassandra-1.png\">"
   ]
  },
  {
   "cell_type": "markdown",
   "id": "5d4b6ca1",
   "metadata": {},
   "source": [
    "In this case, we have partitioned our data by `Year` (the first column). This means that the rows belonging to a single `Year` will be on one machine (or node) and rows belonging to another `Year` will be on another machine (or node). You will learn about this soon.  "
   ]
  },
  {
   "cell_type": "markdown",
   "id": "86ffa8cf",
   "metadata": {},
   "source": [
    "- All Albums by a Given Artist    \n",
    "\n",
    "\n",
    "<img src=\"images/denorm-cassandra-2.png\">"
   ]
  },
  {
   "cell_type": "markdown",
   "id": "c7027702",
   "metadata": {},
   "source": [
    "In this case, we have partitioned our data by `Artist_Name` (the first column). This means that the rows belonging to a single `Artist_Name` will be on one machine (or node) and rows belonging to another `Artist_Name` will be on another machine (or node). Again, you will learn about this soon.  "
   ]
  },
  {
   "cell_type": "markdown",
   "id": "1fd2d6b9",
   "metadata": {},
   "source": [
    "### ✍️ Notes\n",
    "- \n",
    "- "
   ]
  },
  {
   "cell_type": "markdown",
   "id": "2f3531fd",
   "metadata": {},
   "source": [
    "<a id=\"cql\"></a> \n",
    "## CQL \n",
    "- A way to interact with Apache Cassandra Database. \n",
    "- `JOIN`s, `GROUP BY`, subqueries are not supported. \n",
    "- You can get a deeper introduction to `CQL` using the following links: \n",
    "    - https://www.tutorialspoint.com/cassandra/cassandra_cqlsh.htm\n",
    "    - https://www.guru99.com/cassandra-query-language-cql-insert-update-delete-read-data.html  \n"
   ]
  },
  {
   "cell_type": "markdown",
   "id": "fc47e244",
   "metadata": {},
   "source": [
    "### ✍️ Notes\n",
    "- \n",
    "- "
   ]
  },
  {
   "attachments": {},
   "cell_type": "markdown",
   "id": "a77be6a6",
   "metadata": {},
   "source": [
    "<a id=\"demo\"></a>\n",
    "## Demo: Supermarket Sales\n",
    "<img src=\"images/supermarket.png\">"
   ]
  },
  {
   "cell_type": "markdown",
   "id": "0b176105",
   "metadata": {},
   "source": [
    "## Demo Steps \n",
    "\n",
    "This demo is highly based on our second project. If you're able to complete this demo, you'll not have any problem doing project 2. \n",
    "\n",
    "Below are the steps you can follow to complete each component of this project. \n",
    "\n",
    "### Modeling your NoSQL or Apache Cassandra database \n",
    "\n",
    "__STEP 1__ Run the code cells to import the python packages and our `supermarket_sales.csv` which will have data regarding sales at a supermarket store. \n",
    "\n",
    "__STEP 2__ After connecting to the local instance of Apache Cassandra and creating a session, create and set a keyspace for this demo.   \n",
    "\n",
    "\n",
    "__STEP 3__ Create queries to ask the given 3 questions from the data. These queries will include:\n",
    "- `CREATE TABLE` queries to create the tables to answer the given question. \n",
    "- `INSERT` queries to populate the created tables with data from `supermarket_sales.csv`. \n",
    "- `SELECT` queries to select the relevant data from the created table to answer the given question. \n",
    "\n",
    "__STEP 4__ `DROP` the Tables you created. "
   ]
  },
  {
   "cell_type": "markdown",
   "id": "1618c91b",
   "metadata": {},
   "source": [
    "<a id=\"step1\"></a>\n",
    "## Step 1: Import Python Packages and Supermarket Sales Data"
   ]
  },
  {
   "cell_type": "markdown",
   "id": "932385b9",
   "metadata": {},
   "source": [
    "### Import Python Packages"
   ]
  },
  {
   "cell_type": "code",
   "execution_count": 1,
   "id": "10fd286d",
   "metadata": {},
   "outputs": [],
   "source": [
    "# for manipulating data\n",
    "import pandas as pd\n",
    "\n",
    "# python driver for Appache Cassandra \n",
    "# !pip install cassandra-driver \n",
    "import cassandra \n",
    "\n",
    "# for manipulating numbers\n",
    "import numpy as np \n",
    "\n",
    "# for working with the csv file\n",
    "import csv "
   ]
  },
  {
   "cell_type": "markdown",
   "id": "d61fcc37",
   "metadata": {},
   "source": [
    "### Import Supermarket Sales Data"
   ]
  },
  {
   "cell_type": "code",
   "execution_count": 3,
   "id": "30d302c2",
   "metadata": {},
   "outputs": [],
   "source": [
    "# TODO: Import sm_sales - The supermarket_sales.csv \n",
    "file = pd.read_csv('supermarket_sales.csv')\n"
   ]
  },
  {
   "cell_type": "markdown",
   "id": "95357cf3",
   "metadata": {},
   "source": [
    "Let's view the head of the data. "
   ]
  },
  {
   "cell_type": "code",
   "execution_count": 4,
   "id": "21cbd3c0",
   "metadata": {},
   "outputs": [
    {
     "data": {
      "text/html": [
       "<div>\n",
       "<style scoped>\n",
       "    .dataframe tbody tr th:only-of-type {\n",
       "        vertical-align: middle;\n",
       "    }\n",
       "\n",
       "    .dataframe tbody tr th {\n",
       "        vertical-align: top;\n",
       "    }\n",
       "\n",
       "    .dataframe thead th {\n",
       "        text-align: right;\n",
       "    }\n",
       "</style>\n",
       "<table border=\"1\" class=\"dataframe\">\n",
       "  <thead>\n",
       "    <tr style=\"text-align: right;\">\n",
       "      <th></th>\n",
       "      <th>invoice_id</th>\n",
       "      <th>branch</th>\n",
       "      <th>city</th>\n",
       "      <th>first_name</th>\n",
       "      <th>last_name</th>\n",
       "      <th>customer_type</th>\n",
       "      <th>gender</th>\n",
       "      <th>user_id</th>\n",
       "      <th>profession</th>\n",
       "      <th>product_line</th>\n",
       "      <th>...</th>\n",
       "      <th>quantity</th>\n",
       "      <th>tax_5_percent</th>\n",
       "      <th>total</th>\n",
       "      <th>date</th>\n",
       "      <th>time</th>\n",
       "      <th>payment</th>\n",
       "      <th>cogs</th>\n",
       "      <th>gross_margin_percentage</th>\n",
       "      <th>gross_income</th>\n",
       "      <th>rating</th>\n",
       "    </tr>\n",
       "  </thead>\n",
       "  <tbody>\n",
       "    <tr>\n",
       "      <th>0</th>\n",
       "      <td>750-67-8428</td>\n",
       "      <td>A</td>\n",
       "      <td>Yangon</td>\n",
       "      <td>John</td>\n",
       "      <td>Rodriguez</td>\n",
       "      <td>Member</td>\n",
       "      <td>Female</td>\n",
       "      <td>121</td>\n",
       "      <td>developer</td>\n",
       "      <td>Health and beauty</td>\n",
       "      <td>...</td>\n",
       "      <td>7</td>\n",
       "      <td>26.1415</td>\n",
       "      <td>548.9715</td>\n",
       "      <td>1/5/2019</td>\n",
       "      <td>13:08</td>\n",
       "      <td>Ewallet</td>\n",
       "      <td>522.83</td>\n",
       "      <td>4.761905</td>\n",
       "      <td>26.1415</td>\n",
       "      <td>9.1</td>\n",
       "    </tr>\n",
       "    <tr>\n",
       "      <th>1</th>\n",
       "      <td>226-31-3081</td>\n",
       "      <td>C</td>\n",
       "      <td>Naypyitaw</td>\n",
       "      <td>Kevin</td>\n",
       "      <td>Vega</td>\n",
       "      <td>Normal</td>\n",
       "      <td>Female</td>\n",
       "      <td>110</td>\n",
       "      <td>doctor</td>\n",
       "      <td>Electronic accessories</td>\n",
       "      <td>...</td>\n",
       "      <td>5</td>\n",
       "      <td>3.8200</td>\n",
       "      <td>80.2200</td>\n",
       "      <td>3/8/2019</td>\n",
       "      <td>10:29</td>\n",
       "      <td>Cash</td>\n",
       "      <td>76.40</td>\n",
       "      <td>4.761905</td>\n",
       "      <td>3.8200</td>\n",
       "      <td>9.6</td>\n",
       "    </tr>\n",
       "    <tr>\n",
       "      <th>2</th>\n",
       "      <td>631-41-3108</td>\n",
       "      <td>A</td>\n",
       "      <td>Yangon</td>\n",
       "      <td>Antonio</td>\n",
       "      <td>Henderson</td>\n",
       "      <td>Normal</td>\n",
       "      <td>Male</td>\n",
       "      <td>130</td>\n",
       "      <td>doctor</td>\n",
       "      <td>Home and lifestyle</td>\n",
       "      <td>...</td>\n",
       "      <td>7</td>\n",
       "      <td>16.2155</td>\n",
       "      <td>340.5255</td>\n",
       "      <td>3/3/2019</td>\n",
       "      <td>13:23</td>\n",
       "      <td>Credit card</td>\n",
       "      <td>324.31</td>\n",
       "      <td>4.761905</td>\n",
       "      <td>16.2155</td>\n",
       "      <td>7.4</td>\n",
       "    </tr>\n",
       "    <tr>\n",
       "      <th>3</th>\n",
       "      <td>123-19-1176</td>\n",
       "      <td>A</td>\n",
       "      <td>Yangon</td>\n",
       "      <td>Andrew</td>\n",
       "      <td>Gray</td>\n",
       "      <td>Member</td>\n",
       "      <td>Male</td>\n",
       "      <td>104</td>\n",
       "      <td>developer</td>\n",
       "      <td>Health and beauty</td>\n",
       "      <td>...</td>\n",
       "      <td>8</td>\n",
       "      <td>23.2880</td>\n",
       "      <td>489.0480</td>\n",
       "      <td>1/27/2019</td>\n",
       "      <td>20:33</td>\n",
       "      <td>Ewallet</td>\n",
       "      <td>465.76</td>\n",
       "      <td>4.761905</td>\n",
       "      <td>23.2880</td>\n",
       "      <td>8.4</td>\n",
       "    </tr>\n",
       "    <tr>\n",
       "      <th>4</th>\n",
       "      <td>373-73-7910</td>\n",
       "      <td>A</td>\n",
       "      <td>Yangon</td>\n",
       "      <td>Crystal</td>\n",
       "      <td>Nelson</td>\n",
       "      <td>Normal</td>\n",
       "      <td>Male</td>\n",
       "      <td>108</td>\n",
       "      <td>worker</td>\n",
       "      <td>Sports and travel</td>\n",
       "      <td>...</td>\n",
       "      <td>7</td>\n",
       "      <td>30.2085</td>\n",
       "      <td>634.3785</td>\n",
       "      <td>2/8/2019</td>\n",
       "      <td>10:37</td>\n",
       "      <td>Ewallet</td>\n",
       "      <td>604.17</td>\n",
       "      <td>4.761905</td>\n",
       "      <td>30.2085</td>\n",
       "      <td>5.3</td>\n",
       "    </tr>\n",
       "  </tbody>\n",
       "</table>\n",
       "<p>5 rows × 21 columns</p>\n",
       "</div>"
      ],
      "text/plain": [
       "    invoice_id branch       city first_name  last_name customer_type  gender  \\\n",
       "0  750-67-8428      A     Yangon       John  Rodriguez        Member  Female   \n",
       "1  226-31-3081      C  Naypyitaw      Kevin       Vega        Normal  Female   \n",
       "2  631-41-3108      A     Yangon    Antonio  Henderson        Normal    Male   \n",
       "3  123-19-1176      A     Yangon     Andrew       Gray        Member    Male   \n",
       "4  373-73-7910      A     Yangon    Crystal     Nelson        Normal    Male   \n",
       "\n",
       "   user_id profession            product_line  ...  quantity  tax_5_percent  \\\n",
       "0      121  developer       Health and beauty  ...         7        26.1415   \n",
       "1      110     doctor  Electronic accessories  ...         5         3.8200   \n",
       "2      130     doctor      Home and lifestyle  ...         7        16.2155   \n",
       "3      104  developer       Health and beauty  ...         8        23.2880   \n",
       "4      108     worker       Sports and travel  ...         7        30.2085   \n",
       "\n",
       "      total       date   time      payment    cogs  gross_margin_percentage  \\\n",
       "0  548.9715   1/5/2019  13:08      Ewallet  522.83                 4.761905   \n",
       "1   80.2200   3/8/2019  10:29         Cash   76.40                 4.761905   \n",
       "2  340.5255   3/3/2019  13:23  Credit card  324.31                 4.761905   \n",
       "3  489.0480  1/27/2019  20:33      Ewallet  465.76                 4.761905   \n",
       "4  634.3785   2/8/2019  10:37      Ewallet  604.17                 4.761905   \n",
       "\n",
       "   gross_income  rating  \n",
       "0       26.1415     9.1  \n",
       "1        3.8200     9.6  \n",
       "2       16.2155     7.4  \n",
       "3       23.2880     8.4  \n",
       "4       30.2085     5.3  \n",
       "\n",
       "[5 rows x 21 columns]"
      ]
     },
     "execution_count": 4,
     "metadata": {},
     "output_type": "execute_result"
    }
   ],
   "source": [
    "# TODO: View it's head \n",
    "file.head(5)"
   ]
  },
  {
   "cell_type": "markdown",
   "id": "5d8837fd",
   "metadata": {},
   "source": [
    "#### What are the columns we have? \n"
   ]
  },
  {
   "cell_type": "markdown",
   "id": "3c53abe1",
   "metadata": {},
   "source": [
    "- Details of the branch: \n",
    "    - `branch`: Which branch? A? B? or C? \n",
    "    - `city`: Which city is the branch in? 'Yangon', 'Naypyitaw', etc.   \n",
    "    \n",
    "    \n",
    "- Details of the Users \n",
    "    - `first_name`\n",
    "    - `last_name`\n",
    "    - `customer_type`: 'Member' or 'Normal'? \n",
    "    - `gender`: 'Male' or 'Female'? \n",
    "    - `user_id`: unique identifier of the user, like $101$. \n",
    "    - `profession`: Are they a 'developer', 'doctor', etc.?    \n",
    "    \n",
    "    \n",
    "- Details of Product bought: \n",
    "    - `product_line`: What category of product was bought? Was it from 'Health and beauty' or 'Electronic accessories'? \n",
    "    - `rating`: What is the rating of the product out of $10$? $7.6$, $9.1$, etc.    \n",
    "    \n",
    "    \n",
    "- Economics of the goods bought: \n",
    "    - `invoice_id`: unique identifier of the bill sent to the buyer, e.g.: '750-67-8428' \n",
    "    - `quantity`: How many of the products were bought? $1$? $2$? $7$? \n",
    "    - `unit_price`: What is the cost of one unit? $74.69$, $62.35$, etc. \n",
    "    - `tax_5_percent`: What was the tax ammount on the products bought? $26.1415$, $5.12$, etc. \n",
    "    - `total`: What was the total bill amount, including tax? \n",
    "    - `time`: Time of invoice \n",
    "    - `payment`: What was method of payment? 'Ewallet', 'Cash' or 'Credit Card'? \n",
    "    - `cogs`: What was the total _cost_ of the goods sold? \n",
    "    - `gross_margin_percentage`: What is the percentage of margin? \n",
    "    - `gross_income`: How much did we earn? "
   ]
  },
  {
   "cell_type": "markdown",
   "id": "417d5c4d",
   "metadata": {},
   "source": [
    "### ✍️ Notes\n",
    "- \n",
    "- "
   ]
  },
  {
   "cell_type": "markdown",
   "id": "df8329b0",
   "metadata": {},
   "source": [
    "<a id=\"step2\"></a>\n",
    "## Step 2: Create Cluster, Session and Keyspace "
   ]
  },
  {
   "cell_type": "markdown",
   "id": "4020272d",
   "metadata": {},
   "source": [
    "### Creating a Cluster \n",
    "\n",
    "The following code will connect to a local instance of Apache Cassandra (if we have one, and we do in this workspace).   \n",
    "\n",
    "This connection will reach out to the database and ensure we have the correct privileges to connect to this database.  "
   ]
  },
  {
   "cell_type": "code",
   "execution_count": 6,
   "id": "b16ec924",
   "metadata": {},
   "outputs": [],
   "source": [
    "# TODO: Make a connection to a Cassandra instance on \n",
    "# our local machine (127.0.0.1) \n",
    "from cassandra.cluster import Cluster\n",
    "\n",
    "try:\n",
    "    cluster = Cluster(['127.0.0.1'])\n",
    "    session = cluster.connect()\n",
    "except Exception as e:\n",
    "    print(e)\n"
   ]
  },
  {
   "cell_type": "markdown",
   "id": "ed516606",
   "metadata": {},
   "source": [
    "Once we create our cluster object, we need to connect to it. This will create our session that we will use to execute the queries. "
   ]
  },
  {
   "cell_type": "markdown",
   "id": "136efeda",
   "metadata": {},
   "source": [
    "### Create a Session"
   ]
  },
  {
   "cell_type": "code",
   "execution_count": 7,
   "id": "1f618950",
   "metadata": {},
   "outputs": [],
   "source": [
    "# TODO: Create a seession to establish connection and\n",
    "# begin executing queries "
   ]
  },
  {
   "cell_type": "markdown",
   "id": "503b8d68",
   "metadata": {},
   "source": [
    "This is very synonymous to what we used to do when we connected to the PostgreSQL database and got the cursor to it using code like this: \n",
    "\n",
    "```python\n",
    "# Like connecting to cluster \n",
    "conn = psycopg2.connect(\"host=127.0.0.1 dbname=studentdb user=student password=student\")\n",
    "# Like creating a session\n",
    "cur = conn.cursor()\n",
    "```\n",
    "\n",
    "The `cur` variable used to help us execute queries when we used `psycopg2` - the python driver for `PostgreSQL`. Now, we will use `session`. \n"
   ]
  },
  {
   "cell_type": "markdown",
   "id": "62bd0eec",
   "metadata": {},
   "source": [
    "### Create Keyspace\n",
    "\n",
    "A Keyspace in Cassandra is synonymous to a database you would create in PostgreSQL. It defines the:\n",
    "- replication strategy: How should the replication take place? \n",
    "- replication factor: How many copies of the data will be distributed across the nodes?  \n",
    "\n",
    "You can learn more about it [here](https://www.tutorialspoint.com/cassandra/cassandra_create_keyspace.htm). "
   ]
  },
  {
   "cell_type": "code",
   "execution_count": 9,
   "id": "b995708b",
   "metadata": {},
   "outputs": [
    {
     "data": {
      "text/plain": [
       "<cassandra.cluster.ResultSet at 0x180de132ee0>"
      ]
     },
     "execution_count": 9,
     "metadata": {},
     "output_type": "execute_result"
    }
   ],
   "source": [
    "# TODO: Create a Keyspace\n",
    "\n",
    "session.execute(\"\"\"\n",
    "     CREATE KEYSPACE IF NOT EXISTS supermarket_database\n",
    "    WITH REPLICATION =\n",
    "    { 'class' : 'SimpleStrategy', 'replication_factor' : 1 }\"\"\"\n",
    ")"
   ]
  },
  {
   "cell_type": "markdown",
   "id": "af4f21f8",
   "metadata": {},
   "source": [
    "We are creating a database called `supermarket_database` which will store tables relating to the sales of a chain of supermarket. "
   ]
  },
  {
   "cell_type": "markdown",
   "id": "af1cb878",
   "metadata": {},
   "source": [
    "### Set Keyspace "
   ]
  },
  {
   "cell_type": "code",
   "execution_count": 10,
   "id": "a8a67a7d",
   "metadata": {},
   "outputs": [],
   "source": [
    "# TODO: Set Keyspace to the keyspace specified above \n",
    "session.set_keyspace('supermarket_database') "
   ]
  },
  {
   "cell_type": "markdown",
   "id": "9a42b584",
   "metadata": {},
   "source": [
    "### ✍️ Notes\n",
    "- \n",
    "- "
   ]
  },
  {
   "cell_type": "markdown",
   "id": "6c550eb4",
   "metadata": {},
   "source": [
    "<a id=\"pk-pk-cc\"></a>\n",
    "### Overview of Primary Key, Partition Key and Clustering Columns\n",
    "\n",
    "- A __primary key__ uniquely identifies a row.  \n",
    "\n",
    "- A __composite key__ is a primary key made up of multiple columns.  \n",
    "\n",
    "- A __partition key__ is the primary lookup to find a set of rows. It is used to partition the data and distribute it across the nodes. \n",
    "\n",
    "- A __clustering column__ is the part of the primary key that isn't the partition key, and defines the ordering within a partition.  \n",
    "\n",
    "- __`PRIMARY KEY(a)`__: The partition key is `a`. There is no clustering column.   \n",
    "\n",
    "- __`PRIMARY KEY(a,b)`__ : The partition key is `a` and the clustering column is `b`.   \n",
    "\n",
    "- __`PRIMARY KEY((a,b))`__: The composite partition key is `(a,b)`. There is no clustering column.   \n",
    "\n",
    "- __`PRIMARY KEY((a,b), c,d)`__: The composite partition key is `(a,b)` and the composite cluster key is `(c,d)`.   "
   ]
  },
  {
   "cell_type": "markdown",
   "id": "f2adcb69",
   "metadata": {},
   "source": [
    "### Let's Dive IN. \n",
    "\n",
    "- Big Data! \n",
    "- Example: Get all rows from the data which belong to year 1965. \n",
    "- Scanning entire data is not an option. \n",
    "- Ordering the data is also, not an option. \n",
    "- __Partition Key:__ Partition data across the machines.\n",
    "- __Clustering Columns__: Ordering rows within a table.  "
   ]
  },
  {
   "cell_type": "markdown",
   "id": "ab7b1039",
   "metadata": {},
   "source": [
    "### Let's dive in further. "
   ]
  },
  {
   "cell_type": "markdown",
   "id": "e31ef36f",
   "metadata": {},
   "source": [
    "## PRIMARY KEY \n",
    "\n",
    "- Unique identifier for each row. \n",
    "- Determines distribution and order of our data. \n",
    "- Data is __overwritten__ if duplicate value is inserted.\n",
    "- Evenly distribute the data. \n",
    "- First element of __PRIMARY KEY__: __PARTITION KEY__ "
   ]
  },
  {
   "cell_type": "markdown",
   "id": "e1ea4bce",
   "metadata": {},
   "source": [
    "## PARTITION KEY \n",
    "- Partition Key's value is hashed -> Number -> Stored on Machine \n",
    "- Example: All rows with value $1960$ in the `year` column will be stored on one node, and all rows with value $1965$ in the `year` column will be stored on another node. "
   ]
  },
  {
   "cell_type": "markdown",
   "id": "d6933777",
   "metadata": {},
   "source": [
    "## CLUSTERING COLUMN\n",
    "- Sort order within a partition. \n",
    "- Default setting = ascending order \n",
    "- More than one can be used. "
   ]
  },
  {
   "cell_type": "markdown",
   "id": "ddbb63f5",
   "metadata": {},
   "source": [
    "### ✍️ Notes\n",
    "- \n",
    "- "
   ]
  },
  {
   "cell_type": "markdown",
   "id": "b8e2b77c",
   "metadata": {},
   "source": [
    "<a id=\"sim_prim_key_ex\"></a>\n",
    "### Example of Simple PRIMARY KEY  \n",
    "\n",
    "```SQL \n",
    "CREATE TABLE music_library_simple (year INT,\n",
    "                                   artist_name TEXT, \n",
    "                            album_name TEXT, \n",
    "                            PRIMARY KEY( year )) \n",
    "```\n",
    "\n",
    "<img src=\"images/primary_key_simple.png\">"
   ]
  },
  {
   "cell_type": "markdown",
   "id": "557d946b",
   "metadata": {},
   "source": [
    "<a id=\"mul_part_keys\"></a>\n",
    "### Can we use multiple partition keys and clustering columns?  \n",
    "\n",
    "```SQL \n",
    "CREATE table multiple_table (\n",
    "    k_part_one TEXT, \n",
    "    key_part_two INT, \n",
    "    k_clust_one TEXT, \n",
    "    k_clust_two INT, \n",
    "    k_clust_three TEXT,\n",
    "    data TEXT, \n",
    "    PRIMARY KEY ((k_part_one, k_part_two), \n",
    "                  k_clust_one, k_clust_two,\n",
    "                 k_clust_three)\n",
    "); \n",
    "```"
   ]
  },
  {
   "cell_type": "markdown",
   "id": "986d5063",
   "metadata": {},
   "source": [
    "### Example of Composite PRIMARY KEY with multiple partition keys\n",
    "\n",
    "```SQL \n",
    "\n",
    "CREATE TABLE music_library \n",
    "(year INT, \n",
    "artist_name TEXT, \n",
    "album_name TEXT, \n",
    "PRIMARY KEY ((year, artist_name)) \n",
    "```    \n",
    "\n",
    "<img src=\"images/primary_key_composite.png\"> "
   ]
  },
  {
   "cell_type": "markdown",
   "id": "ad0c8018",
   "metadata": {},
   "source": [
    "### Example of Composite PRIMARY KEY with multiple clustering columns \n",
    "\n",
    "```SQL \n",
    "CREATE TABLE music_library (year INT\n",
    "                            artist_name TEXT,\n",
    "                            album_name TEXT,\n",
    "                            PRIMARY KEY ((year), \n",
    "                            artist_name, album_name))\n",
    "\n",
    "```\n",
    "\n",
    "<img src=\"images/primary_key_composite_clustering.png\">\n"
   ]
  },
  {
   "cell_type": "markdown",
   "id": "0c028a5c",
   "metadata": {},
   "source": [
    "### Read and Understand: \n",
    "\n",
    "- A primary key uniquely identifies a row.\n",
    "- A composite key is a primary key made up of multiple columns. \n",
    "- A partition key is the primary lookup to find a set of rows. It is used to partition the data and distribute it across the nodes. \n",
    "- A clustering column is the part of the primary key that isn't the partition key, and defines the ordering within a partition. \n",
    "- `PRIMARY KEY(a)`: The partition key is `a`. There is no clustering column. \n",
    "- `PRIMARY KEY(a,b)` : The partition key is `a` and the clustering column is `b`. \n",
    "- `PRIMARY KEY((a,b)`: The composite partition key is `(a,b)`. There is no clustering column.  \n",
    "- `PRIMARY KEY(a, b, c)`: The partition key is `a`, the composite clustering key is `(b,c)`. \n",
    "- `PRIMARY KEY((a,b), c)`: The composite partition key is `(a,b)` and the clustering key is `c`. \n",
    "- `PRIMARY KEY((a,b), c,d)`: The composite partition key is `(a,b)` and the composite cluster key is `(c,d)`.  "
   ]
  },
  {
   "cell_type": "markdown",
   "id": "eed635fd",
   "metadata": {},
   "source": [
    "### ✍️ Notes\n",
    "- \n",
    "- "
   ]
  },
  {
   "cell_type": "markdown",
   "id": "2c9e3bd0",
   "metadata": {},
   "source": [
    "### Now, we need to create tables to run the following queries. Remember: With Apache Cassandra, you model the database tables on queries you want to run. "
   ]
  },
  {
   "cell_type": "markdown",
   "id": "87a509cc",
   "metadata": {},
   "source": [
    "This is done whenever we are dealing with big data. If we think about the queries first, we can appropriately partition and sort our data while creating tables.   \n",
    "\n",
    "This will make our reads super fast, as the data is already partitioned and sorted! "
   ]
  },
  {
   "cell_type": "markdown",
   "id": "c1a28415",
   "metadata": {},
   "source": [
    "## STEP 3: Create queries to ask the given 3 questions from the data. "
   ]
  },
  {
   "cell_type": "markdown",
   "id": "9f6787f3",
   "metadata": {},
   "source": [
    "<a id=\"query1\"></a>\n",
    "### 1. Give me the branch, product line, the product's unit price in the sales history that was bought with Invoice ID = 750-67-8428. "
   ]
  },
  {
   "cell_type": "markdown",
   "id": "64d3893a",
   "metadata": {},
   "source": [
    "### Query 1: Part I: `CREATE` the Table"
   ]
  },
  {
   "cell_type": "markdown",
   "id": "54f8427a",
   "metadata": {},
   "source": [
    "Before creating the table for this, let's first try to understand what our query is going to be.  \n",
    "\n",
    "- It's going to be selecting the columns for branch, product's line and product's unit price.   \n",
    "- It's going to look for records based on the value of `invoiceId`.  \n",
    "\n",
    "Think of these questions while creating the table: \n",
    "1. What columns should be in this table? \n",
    "2. What datatype should each column be? \n",
    "> - [Here](https://www.guru99.com/cassandra-data-types-expiration-tutorial.html) are a list of datatypes you have in CQL. Make sure to have a look at this. Data types like `NUMERIC` are not available here. \n",
    "> - Some important ones which we use alot are `INT`, `TEXT`, `VARINT`, `FLOAT`, `BIGINT`,  `TIMESTAMP`, etc. "
   ]
  },
  {
   "cell_type": "markdown",
   "id": "bca147fb",
   "metadata": {},
   "source": [
    "3. What should the Primary Key of the table be? Which should be our Partition Key, if any? Which should be our Clustering Columns, if any?   \n",
    "\n",
    "\n",
    "Remember: \n",
    "- The Primary Key (simple or composite) of a row should be the unique identifier of the row. There should be no 2 rows with the same Primary Key.  \n",
    "- Look at the `WHERE` of your query to understand your paritition keys. Using which column will you be filtering the records? \n",
    "- Look at how you want to order your results. These will help in deciding your clustering columns. "
   ]
  },
  {
   "cell_type": "code",
   "execution_count": 11,
   "id": "ca169bcb",
   "metadata": {},
   "outputs": [
    {
     "name": "stdout",
     "output_type": "stream",
     "text": [
      "CREATE TABLE IF NOT EXISTS invoice_details(invoice_id TEXT,\n",
      "branch varchar,\n",
      "product_line TEXT,\n",
      "unit_price FLOAT, PRIMARY KEY (invoice_id))\n"
     ]
    },
    {
     "data": {
      "text/plain": [
       "<cassandra.cluster.ResultSet at 0x180de06b0a0>"
      ]
     },
     "execution_count": 11,
     "metadata": {},
     "output_type": "execute_result"
    }
   ],
   "source": [
    "# TODO: Query 1:  Give me the branch, product line, the product's \n",
    "# unit price in the sales history that was bought with \n",
    "# Invoice ID = 750-67-8428.   \n",
    "query = \"CREATE TABLE IF NOT EXISTS invoice_details\"\n",
    "query = query + \"\"\"(invoice_id TEXT,\n",
    "branch varchar,\n",
    "product_line TEXT,\n",
    "unit_price FLOAT, PRIMARY KEY (invoice_id))\"\"\"\n",
    "\n",
    "print(query)\n",
    "session.execute(query)"
   ]
  },
  {
   "cell_type": "markdown",
   "id": "979c6eb8",
   "metadata": {},
   "source": [
    "### Query 1: Part II: `INSERT` the Data"
   ]
  },
  {
   "cell_type": "markdown",
   "id": "c70dc1a8",
   "metadata": {},
   "source": [
    "Once we have created our table, we can start inserting data into it. \n",
    "\n",
    "The following code will loop through each row in the `supermarket_sales.csv` and insert the relevant data from each row into the table you just created.   \n",
    "\n",
    "\n",
    "There are 2 TODOs here: \n",
    "1. Write `INSERT` statement that will be used to insert the relevant data from each record into the table you just created. Note that there are 2 parts to teh `INSERT` query. \n",
    "    - The `INSERT` query\n",
    "    - Acutal values that we need to put into the columns \n",
    "    \n",
    "2. Assign which values from the current row or `line` should be assigned for each column in the `INSERT` statement that you create. For example, the `invoiceId`, the `branch` and the customer's `first_name` will be the 3 values in each row or `line` in the `csv`. In order to insert the invoiceId, you would use `line[0]` and in order to insert the branch, you would use `line[1]`.   \n",
    "\n",
    "__Note:__ All values gathered from the csv are of type `str`. You will want to do something about this when inserting these values in the table. You cannot insert a string wherein an integer or floar is exepected and expect it to automatically be converted for the table.   \n",
    "\n",
    "In order to understand which column's value is at what index, we can write the following code. "
   ]
  },
  {
   "cell_type": "code",
   "execution_count": 12,
   "id": "b6c134d8",
   "metadata": {},
   "outputs": [
    {
     "name": "stdout",
     "output_type": "stream",
     "text": [
      "0 invoice_id <class 'str'>\n",
      "1 branch <class 'str'>\n",
      "2 city <class 'str'>\n",
      "3 first_name <class 'str'>\n",
      "4 last_name <class 'str'>\n",
      "5 customer_type <class 'str'>\n",
      "6 gender <class 'str'>\n",
      "7 user_id <class 'str'>\n",
      "8 profession <class 'str'>\n",
      "9 product_line <class 'str'>\n",
      "10 unit_price <class 'str'>\n",
      "11 quantity <class 'str'>\n",
      "12 tax_5_percent <class 'str'>\n",
      "13 total <class 'str'>\n",
      "14 date <class 'str'>\n",
      "15 time <class 'str'>\n",
      "16 payment <class 'str'>\n",
      "17 cogs <class 'str'>\n",
      "18 gross_margin_percentage <class 'str'>\n",
      "19 gross_income <class 'str'>\n",
      "20 rating <class 'str'>\n"
     ]
    }
   ],
   "source": [
    "file = 'supermarket_sales.csv'\n",
    "\n",
    "with open(file, encoding='utf8') as f:\n",
    "    # create a csv reader\n",
    "    csvreader = csv.reader(f)\n",
    "    # for each line in the reader object \n",
    "    for line in csvreader:\n",
    "        # for index, value in enumerated list(line)\n",
    "        for i, value in enumerate(line):\n",
    "            # print the index, value and data type of the value \n",
    "            print(i, value, type(value))\n",
    "        # break as we need to do this only for first line \n",
    "        break "
   ]
  },
  {
   "cell_type": "code",
   "execution_count": 17,
   "id": "ac03b7e5",
   "metadata": {},
   "outputs": [],
   "source": [
    "# Part of the code to set up the csv file has been provided. \n",
    "# Please complete the Apache Cassandra code below. \n",
    "\n",
    "file = 'supermarket_sales.csv'\n",
    "\n",
    "with open(file, encoding='utf8') as f:\n",
    "    csvreader = csv.reader(f)\n",
    "    # skip header line as it's the column names\n",
    "    next(csvreader)\n",
    "    # for each line in the csvreader\n",
    "    for line in csvreader:\n",
    "        # Assign the INSERT statements into the `query` variable\n",
    "        # TODO: Enter the INSERT statement here \n",
    "        query = \"\"\"INSERT INTO invoice_details \n",
    "                    (invoice_id, branch, product_line, unit_price)\"\"\"\n",
    "        \n",
    "        # TODO: Assign the placeholder here \n",
    "        query += \"\"\"VALUES (%s, %s, %s, %s)\"\"\"\n",
    "        \n",
    "        # TODO: Assign which column element should be assigned\n",
    "        # for each column in the `INSERT` statement. \n",
    "        # For e.g., to INSERT invoiceId and branch, you would\n",
    "        # change the code to `line[0], `line[1]`\n",
    "        \n",
    "        session.execute(query, \n",
    "                        (line[0],\n",
    "                        line[1],\n",
    "                        line[9],\n",
    "                        float(line[10])))"
   ]
  },
  {
   "cell_type": "markdown",
   "id": "4f44a678",
   "metadata": {},
   "source": [
    "### Query 1: Part III: `SElECT` data"
   ]
  },
  {
   "cell_type": "markdown",
   "id": "b4a79bd5",
   "metadata": {},
   "source": [
    "### Do `SELECT` to verify that the data has been inserted into the table. "
   ]
  },
  {
   "cell_type": "code",
   "execution_count": 18,
   "id": "f908e64c",
   "metadata": {},
   "outputs": [
    {
     "name": "stdout",
     "output_type": "stream",
     "text": [
      "750-67-8428 A Health and beauty 74.69000244140625\n"
     ]
    }
   ],
   "source": [
    "# CHECK: Run the SELECT statement to verify that the data was \n",
    "# entered into the table correctly. \n",
    "\n",
    "query = \"\"\"\n",
    "SELECT invoice_id, branch, product_line, unit_price FROM invoice_details \n",
    "WHERE invoice_id = '750-67-8428'\n",
    "\"\"\"\n",
    "\n",
    "try:\n",
    "    rows = session.execute(query)\n",
    "except Exception as e: \n",
    "    print(e)\n",
    "    \n",
    "for row in rows:\n",
    "    print(row.invoice_id, row.branch, row.product_line, row.unit_price)"
   ]
  },
  {
   "cell_type": "markdown",
   "id": "2c9cd5ae",
   "metadata": {},
   "source": [
    "### Success for Query 1! "
   ]
  },
  {
   "cell_type": "markdown",
   "id": "93258501",
   "metadata": {},
   "source": [
    "<a id=\"query2\"></a>\n",
    "### Query 2. Give me only the following: name of the branch, product_line (sorted by quantity) and customer's (first and last name) for userid = 110"
   ]
  },
  {
   "cell_type": "markdown",
   "id": "3fe031b4",
   "metadata": {},
   "source": [
    "### Query 2: Part I: `CREATE` the TABLE"
   ]
  },
  {
   "cell_type": "markdown",
   "id": "5a552891",
   "metadata": {},
   "source": [
    "Before creating the table for this, let's first try to understand what our query is going to be.  \n",
    "\n",
    "- It's going to be selecting the columns for branch, product's line and customer's first and last name.   \n",
    "- It's going to look for records based on the value of `user_id`.\n",
    "- It wants to sort the data by `quantity`. \n",
    "\n",
    "Think of these questions while creating the table: \n",
    "1. What columns should be in this table? \n",
    "2. What datatype should each column be? \n",
    "> - [Here](https://www.guru99.com/cassandra-data-types-expiration-tutorial.html) are a list of datatypes you have in CQL. Make sure to have a look at this. Data types like `NUMERIC` are not available here. \n",
    "> - Some important ones which we use alot are `INT`, `TEXT`, `VARINT`, `FLOAT`, `BIGINT`,  `TIMESTAMP`, etc. "
   ]
  },
  {
   "cell_type": "markdown",
   "id": "43f61222",
   "metadata": {},
   "source": [
    "3. What should the Primary Key of the table be? Which should be our Partition Key, if any? Which should be our Clustering Columns, if any?   \n",
    "\n",
    "\n",
    "Remember: \n",
    "- The Primary Key (simple or composite) of a row should be the unique identifier of the row. There should be no 2 rows with the same Primary Key.  \n",
    "- Look at the `WHERE` of your query to understand your paritition keys. Using which column will you be filtering the records? \n",
    "- Look at how you want to order your results. These will help in deciding your clustering columns. "
   ]
  },
  {
   "cell_type": "code",
   "execution_count": null,
   "id": "4ad73482",
   "metadata": {},
   "outputs": [],
   "source": [
    "# TODO: Query 2: Give me only the following: name of the branch, \n",
    "# product_line (sorted by quantity) and customer's \n",
    "# (first and last name) for userid = 110\n",
    "\n",
    "query = \"CREATE TABLE IF NOT EXISTS invoice_details\"\n",
    "query = query + \"\"\"(invoice_id TEXT,\n",
    "branch varchar,\n",
    "product_line TEXT,\n",
    "unit_price FLOAT, PRIMARY KEY (invoice_id))\"\"\"\n",
    "\n",
    "print(query)\n",
    "session.execute(query)"
   ]
  },
  {
   "cell_type": "markdown",
   "id": "51728b1a",
   "metadata": {},
   "source": [
    "### Query 2: Part II: `INSERT` the data"
   ]
  },
  {
   "cell_type": "markdown",
   "id": "d329146f",
   "metadata": {},
   "source": [
    "Once we have created our table, we can start inserting data into it. \n",
    "\n",
    "The following code will loop through each row in the `supermarket_sales.csv` and insert the relevant data from each row into the table you just created.   \n",
    "\n",
    "\n",
    "There are 2 TODOs here: \n",
    "1. Write `INSERT` statement that will be used to insert the relevant data from each record into the table you just created. Note that there are 2 parts to teh `INSERT` query. \n",
    "    - The `INSERT` query\n",
    "    - Acutal values that we need to put into the columns \n",
    "    \n",
    "2. Assign which values from the current row or `line` should be assigned for each column in the `INSERT` statement that you create. For example, the `invoiceId`, the `branch` and the customer's `first_name` will be the 3 values in each row or `line` in the `csv`. In order to insert the invoiceId, you would use `line[0]` and in order to insert the branch, you would use `line[1]`.   \n",
    "\n",
    "__Note:__ All values gathered from the csv are of type `str`. You will wnat to do something about this when inserting these values in the table. You cannot insert a string wherein an integer or floar is exepected and expect it to automatically be converted for the table.   \n",
    "\n",
    "In order to understand which column's value is at what index, we can write the following code. "
   ]
  },
  {
   "cell_type": "code",
   "execution_count": null,
   "id": "6b0cf13b",
   "metadata": {},
   "outputs": [],
   "source": [
    "file = 'supermarket_sales.csv'\n",
    "\n",
    "with open(file, encoding='utf8') as f:\n",
    "    # create a csv reader\n",
    "    csvreader = csv.reader(f)\n",
    "    # for each line in the reader object \n",
    "    for line in csvreader:\n",
    "        # for index, value in enumerated list(line)\n",
    "        for i, value in enumerate(line):\n",
    "            # print the index, value and data type of the value \n",
    "            print(i, value, type(value))\n",
    "        # break as we need to do this only for first line \n",
    "        break "
   ]
  },
  {
   "cell_type": "code",
   "execution_count": null,
   "id": "5f2d61f4",
   "metadata": {},
   "outputs": [],
   "source": [
    "# Part of the code to set up the csv file has been provided. \n",
    "# Please complete the Apache Cassandra code below. \n",
    "\n",
    "file = 'supermarket_sales.csv'\n",
    "\n",
    "with open(file, encoding='utf8') as f:\n",
    "    csvreader = csv.reader(f)\n",
    "    # skip header line as it's the column names\n",
    "    next(csvreader)\n",
    "    # for each line in the csvreader\n",
    "    for line in csvreader:\n",
    "        # Assign the INSERT statements into the `query` variable\n",
    "        # TODO: Enter the INSERT statement here \n",
    "        query = \"\"\" \"\"\"\n",
    "        # TODO: Assign the placeholders here \n",
    "        query += \"\"\"VALUES(%s,%s,%s,%s,%s,%s) \"\"\"\n",
    "        \n",
    "        # TODO: Assign which column element should be assigned\n",
    "        # for each column in the `INSERT` statement. \n",
    "        # For e.g., to INSERT invoiceId and branch, you would\n",
    "        # change the code to `line[0], `line[1]`\n",
    "        session.execute(query, \n",
    "                        (line[7],\n",
    "                        line[1],\n",
    "                        line[9],\n",
    "                        int(line[11]),\n",
    "                        line[3],\n",
    "                        line[4]))"
   ]
  },
  {
   "cell_type": "markdown",
   "id": "5805fca5",
   "metadata": {},
   "source": [
    "### Query 2: Part III: `SELECT` the Data"
   ]
  },
  {
   "cell_type": "markdown",
   "id": "dc429017",
   "metadata": {},
   "source": [
    "### Do `SELECT` to verify that the data has been inserted into the table. "
   ]
  },
  {
   "cell_type": "code",
   "execution_count": null,
   "id": "def7fcfc",
   "metadata": {},
   "outputs": [],
   "source": [
    "# CHECK: Run the SELECT statement to verify that the data was \n",
    "# entered into the table correctly. \n",
    "\n",
    "query = \"\"\"\n",
    "SELECT branch, product_line, first_name, last_name\n",
    "FROM user_purchases\n",
    "WHERE user_id = '110'\n",
    "\"\"\"\n",
    "\n",
    "try:\n",
    "    rows = session.execute(query)\n",
    "except Exception as e: \n",
    "    print(e)\n",
    "    \n",
    "for row in rows:\n",
    "    print(row.branch, row.product_line, row.first_name, row.last_name)"
   ]
  },
  {
   "cell_type": "markdown",
   "id": "81b3ba31",
   "metadata": {},
   "source": [
    "### Success for Query 2! "
   ]
  },
  {
   "cell_type": "markdown",
   "id": "c63a8b9a",
   "metadata": {},
   "source": [
    "<a id=\"query3\"></a>\n",
    "### 3. Give me only the first and last names of customers in my sales history who bought the product_line 'Electronic accessories'. "
   ]
  },
  {
   "cell_type": "markdown",
   "id": "0ee1c89e",
   "metadata": {},
   "source": [
    "### Query 3: Part I: `CREATE` the table\n"
   ]
  },
  {
   "cell_type": "markdown",
   "id": "eaf633a6",
   "metadata": {},
   "source": [
    "Before creating the table for this, let's first try to understand what our query is going to be.  \n",
    "\n",
    "- It's going to be selecting the customer's first and last names.   \n",
    "- It's going to look for records based on the value of `product_line`.  \n",
    "\n",
    "Think of these questions while creating the table: \n",
    "1. What columns should be in this table? \n",
    "2. What datatype should each column be? \n",
    "> - [Here](https://www.guru99.com/cassandra-data-types-expiration-tutorial.html) are a list of datatypes you have in CQL. Make sure to have a look at this. Data types like `NUMERIC` are not available here. \n",
    "> - Some important ones which we use alot are `INT`, `TEXT`, `VARINT`, `FLOAT`, `BIGINT`,  `TIMESTAMP`, etc. "
   ]
  },
  {
   "cell_type": "markdown",
   "id": "07f3d66d",
   "metadata": {},
   "source": [
    "3. What should the Primary Key of the table be? Which should be our Partition Key, if any? Which should be our Clustering Columns, if any?   \n",
    "\n",
    "\n",
    "Remember: \n",
    "- The Primary Key (simple or composite) of a row should be the unique identifier of the row. There should be no 2 rows with the same Primary Key.  \n",
    "- Look at the `WHERE` of your query to understand your paritition keys. Using which column will you be filtering the records? \n",
    "- Look at how you want to order your results. These will help in deciding your clustering columns. "
   ]
  },
  {
   "cell_type": "code",
   "execution_count": 20,
   "id": "81775695",
   "metadata": {},
   "outputs": [
    {
     "name": "stdout",
     "output_type": "stream",
     "text": [
      "CREATE TABLE IF NOT EXISTS electrontic_users(\n",
      "                    first_name TEXT,\n",
      "                    last_name TEXT,\n",
      "                    product_line TEXT,\n",
      "                    invoice_id TEXT,\n",
      "                    PRIMARY KEY (product_line, invoice_id))\n"
     ]
    },
    {
     "data": {
      "text/plain": [
       "<cassandra.cluster.ResultSet at 0x180dec60fd0>"
      ]
     },
     "execution_count": 20,
     "metadata": {},
     "output_type": "execute_result"
    }
   ],
   "source": [
    "# TODO: Query 3: Give me only the first and last names of \n",
    "# customers in my sales history who bought the product_line \n",
    "# 'Electronic accessories'. \n",
    "\n",
    "query = \"CREATE TABLE IF NOT EXISTS electrontic_users\"\n",
    "query = query + \"\"\"(\n",
    "                    first_name TEXT,\n",
    "                    last_name TEXT,\n",
    "                    product_line TEXT,\n",
    "                    invoice_id TEXT,\n",
    "                    PRIMARY KEY (product_line, invoice_id))\"\"\"\n",
    "\n",
    "print(query)\n",
    "session.execute(query)"
   ]
  },
  {
   "cell_type": "markdown",
   "id": "68a89a3b",
   "metadata": {},
   "source": [
    "### Query 3: Part II: `INSERT` the data"
   ]
  },
  {
   "cell_type": "markdown",
   "id": "08ee23ba",
   "metadata": {},
   "source": [
    "Once we have created our table, we can start inserting data into it. \n",
    "\n",
    "The following code will loop through each row in the `supermarket_sales.csv` and insert the relevant data from each row into the table you just created.   \n",
    "\n",
    "\n",
    "There are 2 TODOs here: \n",
    "1. Write `INSERT` statement that will be used to insert the relevant data from each record into the table you just created. Note that there are 2 parts to teh `INSERT` query. \n",
    "    - The `INSERT` query\n",
    "    - Acutal values that we need to put into the columns \n",
    "    \n",
    "2. Assign which values from the current row or `line` should be assigned for each column in the `INSERT` statement that you create. For example, the `invoiceId`, the `branch` and the customer's `first_name` will be the 3 values in each row or `line` in the `csv`. In order to insert the invoiceId, you would use `line[0]` and in order to insert the branch, you would use `line[1]`.   \n",
    "\n",
    "__Note:__ All values gathered from the csv are of type `str`. You will wnat to do something about this when inserting these values in the table. You cannot insert a string wherein an integer or floar is exepected and expect it to automatically be converted for the table.   \n",
    "\n",
    "In order to understand which column's value is at what index, we can write the following code. "
   ]
  },
  {
   "cell_type": "code",
   "execution_count": 21,
   "id": "d4ff6f0e",
   "metadata": {},
   "outputs": [
    {
     "name": "stdout",
     "output_type": "stream",
     "text": [
      "0 invoice_id <class 'str'>\n",
      "1 branch <class 'str'>\n",
      "2 city <class 'str'>\n",
      "3 first_name <class 'str'>\n",
      "4 last_name <class 'str'>\n",
      "5 customer_type <class 'str'>\n",
      "6 gender <class 'str'>\n",
      "7 user_id <class 'str'>\n",
      "8 profession <class 'str'>\n",
      "9 product_line <class 'str'>\n",
      "10 unit_price <class 'str'>\n",
      "11 quantity <class 'str'>\n",
      "12 tax_5_percent <class 'str'>\n",
      "13 total <class 'str'>\n",
      "14 date <class 'str'>\n",
      "15 time <class 'str'>\n",
      "16 payment <class 'str'>\n",
      "17 cogs <class 'str'>\n",
      "18 gross_margin_percentage <class 'str'>\n",
      "19 gross_income <class 'str'>\n",
      "20 rating <class 'str'>\n"
     ]
    }
   ],
   "source": [
    "file = 'supermarket_sales.csv'\n",
    "\n",
    "with open(file, encoding='utf8') as f:\n",
    "    # create a csv reader\n",
    "    csvreader = csv.reader(f)\n",
    "    # for each line in the reader object \n",
    "    for line in csvreader:\n",
    "        # for index, value in enumerated list(line)\n",
    "        for i, value in enumerate(line):\n",
    "            # print the index, value and data type of the value \n",
    "            print(i, value, type(value))\n",
    "        # break as we need to do this only for first line \n",
    "        break "
   ]
  },
  {
   "cell_type": "code",
   "execution_count": 23,
   "id": "16fbbd52",
   "metadata": {},
   "outputs": [],
   "source": [
    "# Part of the code to set up the csv file has been provided. \n",
    "# Please complete the Apache Cassandra code below. \n",
    "\n",
    "file = 'supermarket_sales.csv'\n",
    "\n",
    "with open(file, encoding='utf8') as f:\n",
    "    csvreader = csv.reader(f)\n",
    "    # skip header line as it's the column names\n",
    "    next(csvreader)\n",
    "    # for each line in the csvreader\n",
    "    for line in csvreader:\n",
    "        # Assign the INSERT statements into the `query` variable\n",
    "        # TODO: Enter the INSERT statement here \n",
    "        query = \"\"\" INSERT INTO electrontic_users (\n",
    "                    first_name, last_name, product_line, invoice_id)\"\"\"\n",
    "        # TODO: Assign the placeholders here \n",
    "        query += \"\"\"VALUES(%s,%s,%s,%s) \"\"\"\n",
    "        \n",
    "        # TODO: Assign which column element should be assigned\n",
    "        # for each column in the `INSERT` statement. \n",
    "        # For e.g., to INSERT invoiceId and branch, you would\n",
    "        # change the code to `line[0], `line[1]`\n",
    "        session.execute(query, \n",
    "                        (line[3],\n",
    "                        line[4],\n",
    "                        line[9],\n",
    "                        line[0]))  "
   ]
  },
  {
   "cell_type": "markdown",
   "id": "e7ee7447",
   "metadata": {},
   "source": [
    "### Query 3: Part III. `SELECT` the data"
   ]
  },
  {
   "cell_type": "markdown",
   "id": "49965ab4",
   "metadata": {},
   "source": [
    "### Do `SELECT` to verify that the data has been inserted into the table. "
   ]
  },
  {
   "cell_type": "code",
   "execution_count": 25,
   "id": "1880cc8a",
   "metadata": {},
   "outputs": [
    {
     "name": "stdout",
     "output_type": "stream",
     "text": [
      "Angela Lyons\n",
      "David Cain\n",
      "Kevin Vega\n",
      "William Bailey\n",
      "Kelly Simpson\n",
      "Troy Juarez\n",
      "Donald Diaz\n",
      "Karla Porter\n",
      "Margaret Allen\n",
      "Karla Porter\n",
      "Andrew Gray\n",
      "Timothy Fields\n",
      "David Cain\n",
      "Brandi Walton\n",
      "Kelly Simpson\n",
      "Kelly Simpson\n",
      "Kelly Simpson\n",
      "Michael Brown\n",
      "Timothy Fields\n",
      "Timothy Fields\n",
      "Isaac Petersen\n",
      "Melinda Watson\n",
      "Brenda Lester\n",
      "Kelly Simpson\n",
      "Alex Bennett\n",
      "Alex Bennett\n",
      "Antonio Henderson\n",
      "Melinda Watson\n",
      "Melinda Watson\n",
      "Melissa Ruiz\n",
      "Angela Lyons\n",
      "Kevin Vega\n",
      "Timothy Fields\n",
      "Timothy Fields\n"
     ]
    }
   ],
   "source": [
    "# CHECK: Run the SELECT statement to verify that the data was \n",
    "# entered into the table correctly. \n",
    "\n",
    "query = \"\"\"\n",
    "SELECT first_name, last_name\n",
    "FROM electrontic_users\n",
    "WHERE product_line = 'Electronic accessories'\n",
    "\"\"\"\n",
    "\n",
    "try:\n",
    "    rows = session.execute(query)\n",
    "except Exception as e: \n",
    "    print(e)\n",
    "    \n",
    "for row in rows:\n",
    "    print(row.first_name, row.last_name)"
   ]
  },
  {
   "cell_type": "markdown",
   "id": "9e8b9fbb",
   "metadata": {},
   "source": [
    "### Success for Query 3! "
   ]
  },
  {
   "cell_type": "markdown",
   "id": "1d0fce7d",
   "metadata": {},
   "source": [
    "<a id=\"step4\"></a>\n",
    "## Step 4: Drop the tables before closing out the sessions"
   ]
  },
  {
   "cell_type": "code",
   "execution_count": 26,
   "id": "4caf74f8",
   "metadata": {},
   "outputs": [
    {
     "data": {
      "text/plain": [
       "<cassandra.cluster.ResultSet at 0x180de0819d0>"
      ]
     },
     "execution_count": 26,
     "metadata": {},
     "output_type": "execute_result"
    }
   ],
   "source": [
    "session.execute(\"DROP TABLE invoice_details\")"
   ]
  },
  {
   "cell_type": "code",
   "execution_count": 27,
   "id": "d823baea",
   "metadata": {},
   "outputs": [
    {
     "ename": "InvalidRequest",
     "evalue": "Error from server: code=2200 [Invalid query] message=\"unconfigured table user_purchases\"",
     "output_type": "error",
     "traceback": [
      "\u001b[1;31m---------------------------------------------------------------------------\u001b[0m",
      "\u001b[1;31mInvalidRequest\u001b[0m                            Traceback (most recent call last)",
      "\u001b[1;32mc:\\Users\\n0170199\\Projects\\Cassandra_live\\LM_Session3_Workbook_Final.ipynb Cell 113'\u001b[0m in \u001b[0;36m<cell line: 1>\u001b[1;34m()\u001b[0m\n\u001b[1;32m----> <a href='vscode-notebook-cell:/c%3A/Users/n0170199/Projects/Cassandra_live/LM_Session3_Workbook_Final.ipynb#ch0000112?line=0'>1</a>\u001b[0m session\u001b[39m.\u001b[39;49mexecute(\u001b[39m\"\u001b[39;49m\u001b[39mDROP TABLE user_purchases\u001b[39;49m\u001b[39m\"\u001b[39;49m)\n",
      "File \u001b[1;32mc:\\Users\\n0170199\\Projects\\udacity\\lib\\site-packages\\cassandra\\cluster.py:2618\u001b[0m, in \u001b[0;36mcassandra.cluster.Session.execute\u001b[1;34m()\u001b[0m\n",
      "File \u001b[1;32mc:\\Users\\n0170199\\Projects\\udacity\\lib\\site-packages\\cassandra\\cluster.py:4894\u001b[0m, in \u001b[0;36mcassandra.cluster.ResponseFuture.result\u001b[1;34m()\u001b[0m\n",
      "\u001b[1;31mInvalidRequest\u001b[0m: Error from server: code=2200 [Invalid query] message=\"unconfigured table user_purchases\""
     ]
    }
   ],
   "source": [
    "session.execute(\"DROP TABLE user_purchases\")"
   ]
  },
  {
   "cell_type": "code",
   "execution_count": 28,
   "id": "c695cfd3",
   "metadata": {},
   "outputs": [
    {
     "data": {
      "text/plain": [
       "<cassandra.cluster.ResultSet at 0x180de081370>"
      ]
     },
     "execution_count": 28,
     "metadata": {},
     "output_type": "execute_result"
    }
   ],
   "source": [
    "session.execute(\"DROP TABLE electrontic_users\")"
   ]
  },
  {
   "cell_type": "markdown",
   "id": "113c6496",
   "metadata": {},
   "source": [
    "## Close the session and cluster connection "
   ]
  },
  {
   "cell_type": "code",
   "execution_count": null,
   "id": "c095ca56",
   "metadata": {},
   "outputs": [],
   "source": [
    "session.shutdown()\n",
    "cluster.shutdown()"
   ]
  },
  {
   "cell_type": "markdown",
   "id": "286946b4",
   "metadata": {},
   "source": [
    "Notice how this action is similar to how we used to close the connection with the postgresql database. "
   ]
  },
  {
   "cell_type": "markdown",
   "id": "cf84ebd9",
   "metadata": {},
   "source": [
    "<a id=\"reflection\"></a>\n",
    "## Reflection \n",
    "> #### [Tweet] Your Learnings! \n",
    "> ###  I used to think ______, now I think ___. "
   ]
  },
  {
   "cell_type": "code",
   "execution_count": null,
   "id": "6088ea1e",
   "metadata": {},
   "outputs": [],
   "source": []
  }
 ],
 "metadata": {
  "kernelspec": {
   "display_name": "Python 3",
   "language": "python",
   "name": "python3"
  },
  "language_info": {
   "codemirror_mode": {
    "name": "ipython",
    "version": 3
   },
   "file_extension": ".py",
   "mimetype": "text/x-python",
   "name": "python",
   "nbconvert_exporter": "python",
   "pygments_lexer": "ipython3",
   "version": "3.8.5"
  }
 },
 "nbformat": 4,
 "nbformat_minor": 5
}
